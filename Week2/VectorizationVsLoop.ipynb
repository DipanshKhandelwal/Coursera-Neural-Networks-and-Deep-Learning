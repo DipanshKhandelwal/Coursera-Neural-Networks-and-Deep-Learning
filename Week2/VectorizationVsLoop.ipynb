{
 "cells": [
  {
   "cell_type": "code",
   "execution_count": 1,
   "metadata": {},
   "outputs": [
    {
     "name": "stdout",
     "output_type": "stream",
     "text": [
      "Value calculated from dot product - 249660.848044\n",
      "Vectorized form time - 2.5031566619873047 ms\n",
      "\n",
      "Value calculated from dot product - 249660.848044\n",
      "Loop form time - 403.3379554748535 ms\n"
     ]
    }
   ],
   "source": [
    "import numpy as np\n",
    "import time\n",
    "\n",
    "a = np.random.rand(1000000)\n",
    "b = np.random.rand(1000000)\n",
    "\n",
    "tic = time.time()\n",
    "c1 = np.dot(a,b)\n",
    "toc = time.time()\n",
    "print(\"Value calculated from dot product - \" + str(c1))\n",
    "print(\"Vectorized form time - \" + str(1000*(toc-tic)) + \" ms\")\n",
    "\n",
    "print()\n",
    "\n",
    "c2 = 0\n",
    "tic = time.time()\n",
    "for i in range(1000000):\n",
    "    c2 += a[i]*b[i]\n",
    "toc = time.time()\n",
    "print(\"Value calculated from dot product - \" + str(c2))\n",
    "print(\"Loop form time - \" + str(1000*(toc-tic)) + \" ms\")\n"
   ]
  },
  {
   "cell_type": "code",
   "execution_count": null,
   "metadata": {
    "collapsed": true
   },
   "outputs": [],
   "source": []
  }
 ],
 "metadata": {
  "kernelspec": {
   "display_name": "Python 3",
   "language": "python",
   "name": "python3"
  },
  "language_info": {
   "codemirror_mode": {
    "name": "ipython",
    "version": 3
   },
   "file_extension": ".py",
   "mimetype": "text/x-python",
   "name": "python",
   "nbconvert_exporter": "python",
   "pygments_lexer": "ipython3",
   "version": "3.5.2"
  }
 },
 "nbformat": 4,
 "nbformat_minor": 2
}
